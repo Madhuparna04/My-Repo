{
 "cells": [
  {
   "cell_type": "code",
   "execution_count": 3,
   "metadata": {},
   "outputs": [
    {
     "name": "stdout",
     "output_type": "stream",
     "text": [
      "(150, 5)\n"
     ]
    }
   ],
   "source": [
    "#Loading dataset\n",
    "import pandas as pd\n",
    "import numpy as np\n",
    "\n",
    "import matplotlib.pyplot as plt\n",
    "\n",
    "iris=pd.read_csv('irisdataset.csv')\n",
    "print(iris.shape)"
   ]
  },
  {
   "cell_type": "code",
   "execution_count": 4,
   "metadata": {},
   "outputs": [],
   "source": [
    "#sigmoid\n",
    "def sigmoid(z):\n",
    "    s=(1/(1+ np.exp(-z)))\n",
    "    return s"
   ]
  },
  {
   "cell_type": "code",
   "execution_count": 5,
   "metadata": {},
   "outputs": [],
   "source": [
    "#Hypothesis\n",
    "def hypothesis(theta,x):\n",
    "    return sigmoid(x@theta)\n",
    "    \n",
    "    "
   ]
  },
  {
   "cell_type": "code",
   "execution_count": 6,
   "metadata": {},
   "outputs": [],
   "source": [
    "#cost function\n",
    "def cost(x , y , theta):\n",
    "    hx=hypothesis(theta,x)\n",
    "  \n",
    "    j=-(y).T@(np.log(hx))+((1-y)).T@(np.log(1-hx))\n",
    "\n",
    "    return j"
   ]
  },
  {
   "cell_type": "code",
   "execution_count": 7,
   "metadata": {},
   "outputs": [],
   "source": [
    "#cost function derivative\n",
    "def costderivative(x,y,theta):\n",
    "    m=len(x)\n",
    "    hx=hypothesis(theta,x)\n",
    "    return (-(1/m)*((x.T)@(y-hx)))\n"
   ]
  },
  {
   "cell_type": "code",
   "execution_count": 8,
   "metadata": {},
   "outputs": [],
   "source": [
    "#Gradient Descent\n",
    "def GradientDescent(x,y,theta,alpha):\n",
    "    return theta - (alpha*(costderivative(x,y,theta)))"
   ]
  },
  {
   "cell_type": "code",
   "execution_count": 9,
   "metadata": {},
   "outputs": [],
   "source": [
    "#Logistic regression\n",
    "def getparameters(x,y,alpha,theta):\n",
    "    m=len(x)\n",
    "    for i in range(2000):\n",
    "        new_theta=GradientDescent(x,y,theta,alpha)\n",
    "        \n",
    "        theta=new_theta\n",
    "        #print( cost( x,y,theta))\n",
    "       \n",
    "    return theta"
   ]
  },
  {
   "cell_type": "code",
   "execution_count": 13,
   "metadata": {},
   "outputs": [],
   "source": [
    "#get parameters for 3 classes\n",
    "a=np.ones((105,4))\n",
    "a[0:35,:]=iris.loc[0:34,'sepal_length':'petal_width']\n",
    "a[35:70,:]=iris.loc[50:84,'sepal_length':'petal_width']\n",
    "a[70:105,:]=iris.loc[100:134,'sepal_length':'petal_width']\n",
    "#b=iris.loc[50:99,'sepal_length':'petal_width']\n",
    "#c=iris.loc[100:149,'sepal_length':'petal_width']\n",
    "\n",
    "y1=np.ones((105,1))\n",
    "y1[35:105,:]=0\n",
    "\n",
    "y2=np.ones((105,1))\n",
    "y2[0:35,:]=0\n",
    "y2[70:105,:]=0\n",
    "y3=np.ones((105,1))\n",
    "y3[0:70,:]=0\n",
    "theta=np.zeros((4,1))\n",
    "para_a=getparameters(a,y1,0.01,theta)\n",
    "theta=np.zeros((4,1))\n",
    "para_b=getparameters(a,y2,0.01,theta)\n",
    "theta=np.zeros((4,1))\n",
    "para_c=getparameters(a,y3,0.01,theta)\n"
   ]
  },
  {
   "cell_type": "code",
   "execution_count": 14,
   "metadata": {},
   "outputs": [],
   "source": [
    "t_a=np.ones((45,4))\n",
    "t_a[0:15]=iris.loc[35:49,'sepal_length':'petal_width']\n",
    "t_a[15:30]=iris.loc[85:99,'sepal_length':'petal_width']\n",
    "t_a[30:45]=iris.loc[135:149,'sepal_length':'petal_width']\n"
   ]
  },
  {
   "cell_type": "code",
   "execution_count": 18,
   "metadata": {},
   "outputs": [
    {
     "name": "stdout",
     "output_type": "stream",
     "text": [
      "Accuracy is:\n",
      "95.55555555555556\n",
      "Test # 0 Belong to Class :Setosa\n",
      "Test # 1 Belong to Class :Setosa\n",
      "Test # 2 Belong to Class :Setosa\n",
      "Test # 3 Belong to Class :Setosa\n",
      "Test # 4 Belong to Class :Setosa\n",
      "Test # 5 Belong to Class :Setosa\n",
      "Test # 6 Belong to Class :Setosa\n",
      "Test # 7 Belong to Class :Setosa\n",
      "Test # 8 Belong to Class :Setosa\n",
      "Test # 9 Belong to Class :Setosa\n",
      "Test # 10 Belong to Class :Setosa\n",
      "Test # 11 Belong to Class :Setosa\n",
      "Test # 12 Belong to Class :Setosa\n",
      "Test # 13 Belong to Class :Setosa\n",
      "Test # 14 Belong to Class :Setosa\n",
      "Test # 15 Belong to Class :Virginica\n",
      "Test # 16 Belong to Class :Versicolor\n",
      "Test # 17 Belong to Class :Versicolor\n",
      "Test # 18 Belong to Class :Versicolor\n",
      "Test # 19 Belong to Class :Versicolor\n",
      "Test # 20 Belong to Class :Virginica\n",
      "Test # 21 Belong to Class :Versicolor\n",
      "Test # 22 Belong to Class :Versicolor\n",
      "Test # 23 Belong to Class :Versicolor\n",
      "Test # 24 Belong to Class :Versicolor\n",
      "Test # 25 Belong to Class :Versicolor\n",
      "Test # 26 Belong to Class :Versicolor\n",
      "Test # 27 Belong to Class :Versicolor\n",
      "Test # 28 Belong to Class :Versicolor\n",
      "Test # 29 Belong to Class :Versicolor\n",
      "Test # 30 Belong to Class :Virginica\n",
      "Test # 31 Belong to Class :Virginica\n",
      "Test # 32 Belong to Class :Virginica\n",
      "Test # 33 Belong to Class :Virginica\n",
      "Test # 34 Belong to Class :Virginica\n",
      "Test # 35 Belong to Class :Virginica\n",
      "Test # 36 Belong to Class :Virginica\n",
      "Test # 37 Belong to Class :Virginica\n",
      "Test # 38 Belong to Class :Virginica\n",
      "Test # 39 Belong to Class :Virginica\n",
      "Test # 40 Belong to Class :Virginica\n",
      "Test # 41 Belong to Class :Virginica\n",
      "Test # 42 Belong to Class :Virginica\n",
      "Test # 43 Belong to Class :Virginica\n",
      "Test # 44 Belong to Class :Virginica\n"
     ]
    }
   ],
   "source": [
    "test=np.ones((45,3))\n",
    "Y=np.zeros((45,1))\n",
    "Y[15:30,:]=1\n",
    "Y[30:45,:]=2\n",
    "m=len(Y)\n",
    "test[:,0]=hypothesis(para_a,t_a)[:,0]\n",
    "test[:,1]=hypothesis(para_b,t_a)[:,0]\n",
    "test[:,2]=hypothesis(para_c,t_a)[:,0]\n",
    "ans=(np.argmax(test,axis=1))\n",
    "Y=Y.reshape(1,45)\n",
    "\n",
    "result=((ans==Y)*100)\n",
    "\n",
    "print('Accuracy is:')\n",
    "print(np.sum(result)/m)\n",
    "ans=(np.argmax(test,axis=1))\n",
    "\n",
    "\n",
    "for i in range(45):\n",
    "    print('Test #',i,'Belong to Class :',end='')\n",
    "    if ans[i]==0:\n",
    "        print('Setosa')\n",
    "    elif ans[i]==1:\n",
    "        print('Versicolor')\n",
    "    elif ans[i]==2:\n",
    "        print('Virginica')"
   ]
  },
  {
   "cell_type": "code",
   "execution_count": null,
   "metadata": {},
   "outputs": [],
   "source": []
  },
  {
   "cell_type": "code",
   "execution_count": null,
   "metadata": {},
   "outputs": [],
   "source": []
  }
 ],
 "metadata": {
  "kernelspec": {
   "display_name": "Python 3",
   "language": "python",
   "name": "python3"
  },
  "language_info": {
   "codemirror_mode": {
    "name": "ipython",
    "version": 3
   },
   "file_extension": ".py",
   "mimetype": "text/x-python",
   "name": "python",
   "nbconvert_exporter": "python",
   "pygments_lexer": "ipython3",
   "version": "3.6.4"
  }
 },
 "nbformat": 4,
 "nbformat_minor": 2
}
