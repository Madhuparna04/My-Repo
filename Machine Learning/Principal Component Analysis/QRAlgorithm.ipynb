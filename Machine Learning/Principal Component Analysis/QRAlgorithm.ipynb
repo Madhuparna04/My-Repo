{
  "nbformat": 4,
  "nbformat_minor": 0,
  "metadata": {
    "colab": {
      "name": "QRAlgorithm.ipynb",
      "version": "0.3.2",
      "provenance": []
    },
    "kernelspec": {
      "name": "python3",
      "display_name": "Python 3"
    }
  },
  "cells": [
    {
      "cell_type": "markdown",
      "metadata": {
        "id": "9PhFqEZkgKOk",
        "colab_type": "text"
      },
      "source": [
        "Import Libraries"
      ]
    },
    {
      "cell_type": "code",
      "metadata": {
        "id": "POgmXvDAKaqp",
        "colab_type": "code",
        "colab": {}
      },
      "source": [
        "import numpy as np\n",
        "from typing import Union\n",
        "import pandas as pd\n",
        "from sklearn.decomposition import PCA\n",
        "import matplotlib.pyplot as plt\n",
        "from sklearn import datasets"
      ],
      "execution_count": 0,
      "outputs": []
    },
    {
      "cell_type": "markdown",
      "metadata": {
        "id": "sYAt6H8qgRTQ",
        "colab_type": "text"
      },
      "source": [
        "Householder algorithm converts a normal matrix to a Hessenberg matrix"
      ]
    },
    {
      "cell_type": "code",
      "metadata": {
        "id": "j-S9iHKEKrnA",
        "colab_type": "code",
        "colab": {}
      },
      "source": [
        "def householder_vectorized(a):\n",
        "    v = a / (a[0] + np.copysign(np.linalg.norm(a), a[0]))\n",
        "    v[0] = 1\n",
        "    tau = 2 / (v.T @ v)\n",
        "\n",
        "    return v,tau"
      ],
      "execution_count": 0,
      "outputs": []
    },
    {
      "cell_type": "markdown",
      "metadata": {
        "id": "CCQvTV4lgZu8",
        "colab_type": "text"
      },
      "source": [
        "QR decomposition find the Q and R components of the given matrix"
      ]
    },
    {
      "cell_type": "code",
      "metadata": {
        "id": "-49xHpU3K0zO",
        "colab_type": "code",
        "colab": {}
      },
      "source": [
        "def qr_decomposition(A: np.ndarray) -> Union[np.ndarray, np.ndarray]:\n",
        "    m,n = A.shape\n",
        "    R = A.copy()\n",
        "    Q = np.identity(m)\n",
        "\n",
        "    for j in range(0, n):\n",
        "        # Apply Householder transformation.\n",
        "        v, tau = householder_vectorized(R[j:, j, np.newaxis])\n",
        "\n",
        "        H = np.identity(m)\n",
        "        H[j:, j:] -= tau * (v @ v.T)\n",
        "        R = H @ R\n",
        "        Q = H @ Q\n",
        "\n",
        "    return Q[:n].T, np.triu(R[:n])"
      ],
      "execution_count": 0,
      "outputs": []
    },
    {
      "cell_type": "markdown",
      "metadata": {
        "id": "oB-xRqeTgksk",
        "colab_type": "text"
      },
      "source": [
        "Given Q and R matrices of the given matrix, we can converge them to get the Eigenvectors of the matrix"
      ]
    },
    {
      "cell_type": "code",
      "metadata": {
        "id": "YS6Fo5SQK_Jr",
        "colab_type": "code",
        "colab": {}
      },
      "source": [
        "def findEigVec(Q,R):\n",
        "  tol=0.0001\n",
        "  previous = np.empty(shape=Q.shape)\n",
        "  U = np.empty(shape=Q.shape)\n",
        "  U[:] = Q\n",
        "  for i in range(500):\n",
        "      previous[:] = Q\n",
        "      X = R @ Q\n",
        "      Q, R = qr_decomposition(X)\n",
        "      U = U @ Q\n",
        "      if np.allclose(X, np.triu(X), atol=tol): \n",
        "          break\n",
        "  return U"
      ],
      "execution_count": 0,
      "outputs": []
    },
    {
      "cell_type": "markdown",
      "metadata": {
        "id": "C9e2xx-Egxnp",
        "colab_type": "text"
      },
      "source": [
        "Load iris dataset"
      ]
    },
    {
      "cell_type": "code",
      "metadata": {
        "id": "HpH7gMRrLj4G",
        "colab_type": "code",
        "colab": {}
      },
      "source": [
        "iris = datasets.load_iris()\n",
        "A=iris.data\n",
        "y=iris.target"
      ],
      "execution_count": 0,
      "outputs": []
    },
    {
      "cell_type": "markdown",
      "metadata": {
        "id": "OO2lGk1ug_sU",
        "colab_type": "text"
      },
      "source": [
        "Normalize and find the covariance of the dataset"
      ]
    },
    {
      "cell_type": "code",
      "metadata": {
        "id": "tSvmtNGrfbOf",
        "colab_type": "code",
        "colab": {}
      },
      "source": [
        "col_sums = A.sum(axis=0)\n",
        "X = A/ col_sums[np.newaxis, :]\n",
        "X = np.cov(X)"
      ],
      "execution_count": 0,
      "outputs": []
    },
    {
      "cell_type": "markdown",
      "metadata": {
        "id": "ZxULyXcLhG2_",
        "colab_type": "text"
      },
      "source": [
        "Find the eigen vectors of the dataset using above algorithm\n",
        "\n"
      ]
    },
    {
      "cell_type": "code",
      "metadata": {
        "id": "74kidejBL--S",
        "colab_type": "code",
        "outputId": "bee42a0e-df96-4285-9e43-3ec3cc94d55c",
        "colab": {
          "base_uri": "https://localhost:8080/",
          "height": 136
        }
      },
      "source": [
        "Q, R = qr_decomposition(X)\n",
        "np.set_printoptions(linewidth=9999, precision=20, suppress=True)\n",
        "U=findEigVec(Q,R)\n",
        "print(U)"
      ],
      "execution_count": 0,
      "outputs": [
        {
          "output_type": "stream",
          "text": [
            "[[ 0.11531961888954217   -0.014696211336250254   0.009171488348886625  ...  0.004012901141198944   0.014292310898583549   0.0012491179810727709]\n",
            " [ 0.09818455576034818    0.026260771457112798   0.0837331327864429    ...  0.023015693234651222  -0.004861343859172267  -0.035867682825426676 ]\n",
            " [ 0.1041433580560701    -0.014813666989081502   0.016597407832977522  ...  0.012360034854088082  -0.011703750142692405  -0.02451621634867111  ]\n",
            " ...\n",
            " [-0.07695021251571647   -0.06159440247785303    0.041739822428006654  ...  0.017546933989884418  -0.0011283991468888162 -0.007043129483431445 ]\n",
            " [-0.09253838925621836   -0.19097599200822368   -0.08053311903775974   ... -0.01716422806398791    0.005429390466046647  -0.003803577382455763 ]\n",
            " [-0.0648720831627246    -0.04037165527761      -0.12199848955852041   ... -0.07588266235942795    0.040634799320848326  -0.009233659248924175 ]]\n"
          ],
          "name": "stdout"
        }
      ]
    },
    {
      "cell_type": "markdown",
      "metadata": {
        "id": "rCptmxH3hOiR",
        "colab_type": "text"
      },
      "source": [
        "Find the eigen vectors of the dataset using inbuilt numpy function\n"
      ]
    },
    {
      "cell_type": "code",
      "metadata": {
        "id": "7EZAL8tDMN0f",
        "colab_type": "code",
        "outputId": "d51b6df3-58c8-4532-f9bf-b2111d973101",
        "colab": {
          "base_uri": "https://localhost:8080/",
          "height": 136
        }
      },
      "source": [
        "x=np.linalg.eig(X)\n",
        "print(x[1])"
      ],
      "execution_count": 0,
      "outputs": [
        {
          "output_type": "stream",
          "text": [
            "[[ 0.1153152115526433    +0.j  0.01519517535285176   +0.j -0.008379615597860258  +0.j ...  0.0006579547317552368 +0.j -0.0032867306158212493 +0.j  0.0000000000000001861 +0.j]\n",
            " [ 0.09819051175354833   +0.j -0.02175480161002644   +0.j -0.08500837983455779   +0.j ...  0.004188517168047398  +0.j  0.0027277256118228136 +0.j  0.00000000000000000611+0.j]\n",
            " [ 0.10413877596344259   +0.j  0.015703070237763572  +0.j -0.01578881343154538   +0.j ...  0.011827845164890183  +0.j -0.008497023401445567  +0.j -0.00000000000000024979+0.j]\n",
            " ...\n",
            " [-0.07696872401184317   +0.j  0.06369916599911991   +0.j -0.03841419235314531   +0.j ...  0.0011825169500993163 +0.j  0.025867079317243857  +0.j -0.00000000000000074702+0.j]\n",
            " [-0.09259179240587717   +0.j  0.18640954978371121   +0.j  0.0905483627688073    +0.j ...  0.013685341500511273  +0.j -0.027195634663914586  +0.j -0.00000000000000006126+0.j]\n",
            " [-0.06488137123805314   +0.j  0.033826063741324644  +0.j  0.12396811790264498   +0.j ... -0.003022223418778812  +0.j -0.030768906470721575  +0.j -0.00000000000000036006+0.j]]\n"
          ],
          "name": "stdout"
        }
      ]
    },
    {
      "cell_type": "markdown",
      "metadata": {
        "id": "yKpol-ZqhXPg",
        "colab_type": "text"
      },
      "source": [
        "Calculates the PCA components"
      ]
    },
    {
      "cell_type": "code",
      "metadata": {
        "id": "47KEp4riMSj2",
        "colab_type": "code",
        "colab": {}
      },
      "source": [
        "def calcPCAvec(A):\n",
        "  Q, R = qr_decomposition(A)\n",
        "  U=findEigVec(Q,R)\n",
        "  U=U.T\n",
        "  U=U[:2][:]\n",
        "  U=U.T\n",
        "  P=A@U\n",
        "  return P"
      ],
      "execution_count": 0,
      "outputs": []
    },
    {
      "cell_type": "code",
      "metadata": {
        "id": "E5jpuz8ZMoFm",
        "colab_type": "code",
        "outputId": "bcf21a95-85bb-40d4-ae0f-e5ce40ecf8b7",
        "colab": {
          "base_uri": "https://localhost:8080/",
          "height": 1105
        }
      },
      "source": [
        "P=calcPCAvec(X)\n",
        "dfqr = pd.DataFrame(data = P\n",
        "             , columns = ['PC1','PC2'])\n",
        "print(dfqr)"
      ],
      "execution_count": 0,
      "outputs": [
        {
          "output_type": "stream",
          "text": [
            "          PC1           PC2\n",
            "0    0.000078 -4.531030e-07\n",
            "1    0.000066  7.245772e-07\n",
            "2    0.000070 -4.693271e-07\n",
            "3    0.000066  4.005745e-07\n",
            "4    0.000079 -8.718356e-07\n",
            "5    0.000075 -2.183846e-06\n",
            "6    0.000068 -1.840055e-06\n",
            "7    0.000074  6.035938e-08\n",
            "8    0.000061  3.581818e-07\n",
            "9    0.000073  1.813695e-06\n",
            "10   0.000082 -2.798557e-07\n",
            "11   0.000072  1.550892e-07\n",
            "12   0.000071  1.614279e-06\n",
            "13   0.000071 -1.093121e-07\n",
            "14   0.000093 -1.689388e-06\n",
            "15   0.000088 -3.943550e-06\n",
            "16   0.000078 -3.609602e-06\n",
            "17   0.000072 -1.473659e-06\n",
            "18   0.000079 -4.828475e-07\n",
            "19   0.000078 -1.980854e-06\n",
            "20   0.000074  1.296656e-06\n",
            "21   0.000071 -2.713532e-06\n",
            "22   0.000081 -2.821011e-06\n",
            "23   0.000055 -1.869698e-06\n",
            "24   0.000070  1.224407e-06\n",
            "25   0.000065  1.568310e-06\n",
            "26   0.000063 -1.624314e-06\n",
            "27   0.000077  3.419081e-08\n",
            "28   0.000076 -3.437043e-08\n",
            "29   0.000068  5.999904e-07\n",
            "..        ...           ...\n",
            "120 -0.000065 -3.338882e-06\n",
            "121 -0.000058 -3.678325e-06\n",
            "122 -0.000063  5.485528e-06\n",
            "123 -0.000046 -4.333523e-07\n",
            "124 -0.000054 -1.847357e-06\n",
            "125 -0.000040  3.225781e-06\n",
            "126 -0.000044 -1.208524e-06\n",
            "127 -0.000041 -1.558695e-06\n",
            "128 -0.000065 -1.156970e-06\n",
            "129 -0.000032  5.129771e-06\n",
            "130 -0.000054  3.974885e-06\n",
            "131 -0.000038  1.799140e-06\n",
            "132 -0.000070 -2.177526e-06\n",
            "133 -0.000030  3.053317e-06\n",
            "134 -0.000034  6.170115e-06\n",
            "135 -0.000069 -2.905317e-07\n",
            "136 -0.000069 -6.076761e-06\n",
            "137 -0.000042  6.846257e-07\n",
            "138 -0.000041 -2.045989e-06\n",
            "139 -0.000055 -2.079209e-06\n",
            "140 -0.000073 -4.689709e-06\n",
            "141 -0.000062 -5.189639e-06\n",
            "142 -0.000056 -1.395304e-06\n",
            "143 -0.000068 -2.756858e-06\n",
            "144 -0.000075 -5.929581e-06\n",
            "145 -0.000066 -4.807031e-06\n",
            "146 -0.000056 -5.217135e-07\n",
            "147 -0.000052 -2.007072e-06\n",
            "148 -0.000062 -5.899938e-06\n",
            "149 -0.000044 -1.107526e-06\n",
            "\n",
            "[150 rows x 2 columns]\n"
          ],
          "name": "stdout"
        }
      ]
    },
    {
      "cell_type": "markdown",
      "metadata": {
        "id": "rKA_y8jEhio8",
        "colab_type": "text"
      },
      "source": [
        "Calculates PCA components using inbuilt Scikit learn function"
      ]
    },
    {
      "cell_type": "code",
      "metadata": {
        "id": "ESDc9RGcOKud",
        "colab_type": "code",
        "outputId": "dea3f330-168d-4255-8e5b-e8510d656fad",
        "colab": {
          "base_uri": "https://localhost:8080/",
          "height": 1105
        }
      },
      "source": [
        "pca = PCA(n_components=2)\n",
        "principalComponents = pca.fit_transform(A)\n",
        "dfskl = pd.DataFrame(data = principalComponents\n",
        "             , columns = ['PC1','PC2'])\n",
        "print(dfskl)"
      ],
      "execution_count": 0,
      "outputs": [
        {
          "output_type": "stream",
          "text": [
            "          PC1       PC2\n",
            "0   -2.684126  0.319397\n",
            "1   -2.714142 -0.177001\n",
            "2   -2.888991 -0.144949\n",
            "3   -2.745343 -0.318299\n",
            "4   -2.728717  0.326755\n",
            "5   -2.280860  0.741330\n",
            "6   -2.820538 -0.089461\n",
            "7   -2.626145  0.163385\n",
            "8   -2.886383 -0.578312\n",
            "9   -2.672756 -0.113774\n",
            "10  -2.506947  0.645069\n",
            "11  -2.612755  0.014730\n",
            "12  -2.786109 -0.235112\n",
            "13  -3.223804 -0.511395\n",
            "14  -2.644750  1.178765\n",
            "15  -2.386039  1.338062\n",
            "16  -2.623528  0.810680\n",
            "17  -2.648297  0.311849\n",
            "18  -2.199820  0.872839\n",
            "19  -2.587986  0.513560\n",
            "20  -2.310256  0.391346\n",
            "21  -2.543705  0.432996\n",
            "22  -3.215939  0.133468\n",
            "23  -2.302733  0.098709\n",
            "24  -2.355754 -0.037282\n",
            "25  -2.506669 -0.146017\n",
            "26  -2.468820  0.130951\n",
            "27  -2.562320  0.367719\n",
            "28  -2.639535  0.312040\n",
            "29  -2.631989 -0.196961\n",
            "..        ...       ...\n",
            "120  2.427818  0.378196\n",
            "121  1.199001 -0.606092\n",
            "122  3.499920  0.460674\n",
            "123  1.388766 -0.204399\n",
            "124  2.275431  0.334991\n",
            "125  2.614090  0.560901\n",
            "126  1.258508 -0.179705\n",
            "127  1.291132 -0.116669\n",
            "128  2.123609 -0.209729\n",
            "129  2.388003  0.464640\n",
            "130  2.841673  0.375269\n",
            "131  3.230674  1.374165\n",
            "132  2.159438 -0.217278\n",
            "133  1.444161 -0.143413\n",
            "134  1.781295 -0.499902\n",
            "135  3.076500  0.688086\n",
            "136  2.144243  0.140064\n",
            "137  1.905098  0.049301\n",
            "138  1.169326 -0.164990\n",
            "139  2.107611  0.372288\n",
            "140  2.314155  0.183651\n",
            "141  1.922268  0.409203\n",
            "142  1.415236 -0.574916\n",
            "143  2.563013  0.277863\n",
            "144  2.418746  0.304798\n",
            "145  1.944110  0.187532\n",
            "146  1.527167 -0.375317\n",
            "147  1.764346  0.078859\n",
            "148  1.900942  0.116628\n",
            "149  1.390189 -0.282661\n",
            "\n",
            "[150 rows x 2 columns]\n"
          ],
          "name": "stdout"
        }
      ]
    },
    {
      "cell_type": "markdown",
      "metadata": {
        "id": "XmRN2PmShrBO",
        "colab_type": "text"
      },
      "source": [
        "Plots PCA components calculated above"
      ]
    },
    {
      "cell_type": "code",
      "metadata": {
        "id": "2ZRxKCe_f-v_",
        "colab_type": "code",
        "outputId": "6197ac93-d451-46fc-838c-2a196aecc6eb",
        "colab": {
          "base_uri": "https://localhost:8080/",
          "height": 269
        }
      },
      "source": [
        "x=P[: , 0]\n",
        "y=P[: , 1]\n",
        "\n",
        "plt.ylim(-0.00001,0.00001)\n",
        "plt.xlim(-0.0001,0.0001)\n",
        "count=0\n",
        "for i in range(3):\n",
        "  plt.scatter(x[count:count+50], y[count:count+50])\n",
        "  count+=50\n",
        "plt.show()"
      ],
      "execution_count": 0,
      "outputs": [
        {
          "output_type": "display_data",
          "data": {
            "image/png": "[encoded data removed]",
            "text/plain": [
              "<Figure size 432x288 with 1 Axes>"
            ]
          },
          "metadata": {
            "tags": []
          }
        }
      ]
    },
    {
      "cell_type": "markdown",
      "metadata": {
        "id": "GJEogDephx5Y",
        "colab_type": "text"
      },
      "source": [
        "Plots PCA components found using inbuilt Scikit learn function"
      ]
    },
    {
      "cell_type": "code",
      "metadata": {
        "id": "T49vB1QwPjKA",
        "colab_type": "code",
        "outputId": "05b7dc96-baea-4229-eef7-7df7dc93394d",
        "colab": {
          "base_uri": "https://localhost:8080/",
          "height": 269
        }
      },
      "source": [
        "x=principalComponents[: , 0]\n",
        "y=principalComponents[: , 1]\n",
        "\n",
        "count=0\n",
        "for i in range(3):\n",
        "  plt.scatter(x[count:count+50], y[count:count+50])\n",
        "  count+=50\n",
        "plt.show()"
      ],
      "execution_count": 0,
      "outputs": [
        {
          "output_type": "display_data",
          "data": {
            "image/png": "[encoded data removed]",
            "text/plain": [
              "<Figure size 432x288 with 1 Axes>"
            ]
          },
          "metadata": {
            "tags": []
          }
        }
      ]
    },
    {
      "cell_type": "code",
      "metadata": {
        "id": "y-Rwmj_MTcpB",
        "colab_type": "code",
        "colab": {}
      },
      "source": [
        ""
      ],
      "execution_count": 0,
      "outputs": []
    }
  ]
}