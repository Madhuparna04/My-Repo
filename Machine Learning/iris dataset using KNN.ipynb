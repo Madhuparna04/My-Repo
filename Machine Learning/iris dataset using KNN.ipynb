{
 "cells": [
  {
   "cell_type": "code",
   "execution_count": 232,
   "metadata": {},
   "outputs": [],
   "source": [
    "#Loading dataset\n",
    "import pandas as pd\n",
    "import numpy as np\n",
    "import matplotlib.pyplot as plt\n",
    "iris=pd.read_csv('irisdataset.csv')"
   ]
  },
  {
   "cell_type": "code",
   "execution_count": 233,
   "metadata": {},
   "outputs": [],
   "source": [
    "#distance\n",
    "def distance(x,i,a):\n",
    "    dis=((x[0]-a[i][0])**2 +(x[1]-a[i][1])**2 +(x[2]-a[i][2])**2 +(x[3]-a[i][3])**2)**0.5\n",
    "    return dis   "
   ]
  },
  {
   "cell_type": "code",
   "execution_count": 234,
   "metadata": {},
   "outputs": [],
   "source": [
    "#Calculating Distance\n",
    "def calculate(x,k,a):\n",
    "    store=np.zeros(90)\n",
    "    for i in range(90):\n",
    "        store[i]=distance(x,i,a);\n",
    "    #print(store)\n",
    "    return((np.argsort(store))[0:k])      "
   ]
  },
  {
   "cell_type": "code",
   "execution_count": 235,
   "metadata": {},
   "outputs": [],
   "source": [
    "#Deciding class\n",
    "def selectclass(k,a,b):\n",
    "    storeClass=np.zeros(30)\n",
    "    cla=np.zeros(k)\n",
    "  \n",
    "    for i in range(30):\n",
    "        x=[b[i][0],b[i][1],b[i][2],b[i][3]]\n",
    "        cla=calculate(x,k,a)\n",
    "        #print(cla)\n",
    "        class1=0\n",
    "        class2=0\n",
    "        class3=0\n",
    "        for j in range(k):\n",
    "            if cla[j]<30:\n",
    "                class1=class1+1\n",
    "            elif cla[j]>=30 and cla[j]<60:\n",
    "                class2=class2+1\n",
    "            elif cla[j]>=60 and cla[j]<90:\n",
    "                class3=class3+1\n",
    "        maxclass=max(class1,max(class2,class3))\n",
    "        if maxclass==class1:\n",
    "            storeClass[i]=1\n",
    "        elif maxclass==class2:\n",
    "            storeClass[i]=2\n",
    "        elif maxclass==class3:\n",
    "            storeClass[i]=3\n",
    "    return storeClass"
   ]
  },
  {
   "cell_type": "code",
   "execution_count": 236,
   "metadata": {},
   "outputs": [],
   "source": [
    "#Find accuracy\n",
    "def accuracy(k,a,b):\n",
    "    ans=selectclass(k,a,b)\n",
    "    result=((ans==y)*100)\n",
    "    print('ACCURACY FOR k =',k,' is ',np.sum(result)/30)\n",
    "    return (np.sum(result)/30)"
   ]
  },
  {
   "cell_type": "code",
   "execution_count": 239,
   "metadata": {},
   "outputs": [],
   "source": [
    "#Selecting best k\n",
    "def getbestk(a,b):\n",
    "    max_k=0\n",
    "    max_accuracy=0\n",
    "    for i in range(10):\n",
    "        ac=accuracy(i,a,b)\n",
    "        if ac>max_accuracy:\n",
    "            max_k=i\n",
    "            max_accuracy=ac\n",
    "    print('Value of k with highest accuracy is',max_k,'Accuracy =',max_accuracy)\n",
    "    return max_k  "
   ]
  },
  {
   "cell_type": "code",
   "execution_count": 242,
   "metadata": {},
   "outputs": [],
   "source": [
    "#Training set\n",
    "a=np.ones((90,4))\n",
    "a[0:30,:]=iris.loc[0:29,'sepal_length':'petal_width']\n",
    "a[30:60,:]=iris.loc[50:79,'sepal_length':'petal_width']\n",
    "a[60:90,:]=iris.loc[100:129,'sepal_length':'petal_width']\n",
    "\n",
    "#Cross Validation set\n",
    "b=np.ones((30,4))\n",
    "b[0:10,:]=iris.loc[30:39,'sepal_length':'petal_width']\n",
    "b[10:20,:]=iris.loc[80:89,'sepal_length':'petal_width']\n",
    "b[20:30,:]=iris.loc[130:139,'sepal_length':'petal_width']\n",
    "\n",
    "y=np.ones((30))\n",
    "y[0:10]=1\n",
    "y[10:20]=2\n",
    "y[20:30]=3\n",
    "\n",
    "#Test set\n",
    "test=np.ones((30,4))\n",
    "test[0:10,:]=iris.loc[40:49,'sepal_length':'petal_width']\n",
    "test[10:20,:]=iris.loc[90:99,'sepal_length':'petal_width']\n",
    "test[20:30,:]=iris.loc[140:149,'sepal_length':'petal_width']"
   ]
  },
  {
   "cell_type": "code",
   "execution_count": 243,
   "metadata": {},
   "outputs": [
    {
     "name": "stdout",
     "output_type": "stream",
     "text": [
      "ACCURACY FOR k = 0  is  33.333333333333336\n",
      "ACCURACY FOR k = 1  is  93.33333333333333\n",
      "ACCURACY FOR k = 2  is  90.0\n",
      "ACCURACY FOR k = 3  is  96.66666666666667\n",
      "ACCURACY FOR k = 4  is  96.66666666666667\n",
      "ACCURACY FOR k = 5  is  96.66666666666667\n",
      "ACCURACY FOR k = 6  is  93.33333333333333\n",
      "ACCURACY FOR k = 7  is  93.33333333333333\n",
      "ACCURACY FOR k = 8  is  90.0\n",
      "ACCURACY FOR k = 9  is  93.33333333333333\n",
      "Value of k with highest accuracy is 3 Accuracy = 96.66666666666667\n",
      "Predicting values for test set using k = 3\n",
      "Test # 0 Belong to Class :Setosa\n",
      "Test # 1 Belong to Class :Setosa\n",
      "Test # 2 Belong to Class :Setosa\n",
      "Test # 3 Belong to Class :Setosa\n",
      "Test # 4 Belong to Class :Setosa\n",
      "Test # 5 Belong to Class :Setosa\n",
      "Test # 6 Belong to Class :Setosa\n",
      "Test # 7 Belong to Class :Setosa\n",
      "Test # 8 Belong to Class :Setosa\n",
      "Test # 9 Belong to Class :Setosa\n",
      "Test # 10 Belong to Class :Versicolor\n",
      "Test # 11 Belong to Class :Versicolor\n",
      "Test # 12 Belong to Class :Versicolor\n",
      "Test # 13 Belong to Class :Versicolor\n",
      "Test # 14 Belong to Class :Versicolor\n",
      "Test # 15 Belong to Class :Versicolor\n",
      "Test # 16 Belong to Class :Versicolor\n",
      "Test # 17 Belong to Class :Versicolor\n",
      "Test # 18 Belong to Class :Versicolor\n",
      "Test # 19 Belong to Class :Versicolor\n",
      "Test # 20 Belong to Class :Virginica\n",
      "Test # 21 Belong to Class :Virginica\n",
      "Test # 22 Belong to Class :Virginica\n",
      "Test # 23 Belong to Class :Virginica\n",
      "Test # 24 Belong to Class :Virginica\n",
      "Test # 25 Belong to Class :Virginica\n",
      "Test # 26 Belong to Class :Virginica\n",
      "Test # 27 Belong to Class :Virginica\n",
      "Test # 28 Belong to Class :Virginica\n",
      "Test # 29 Belong to Class :Virginica\n"
     ]
    }
   ],
   "source": [
    "#selectclass(2,a,b)\n",
    "bestk=getbestk(a,b)\n",
    "print('Predicting values for test set using k =',bestk)\n",
    "ans=selectclass(bestk,a,test)\n",
    "for i in range(30):\n",
    "    print('Test #',i,'Belong to Class :',end='')\n",
    "    if ans[i]==1:\n",
    "        print('Setosa')\n",
    "    elif ans[i]==2:\n",
    "        print('Versicolor')\n",
    "    elif ans[i]==3:\n",
    "        print('Virginica')"
   ]
  },
  {
   "cell_type": "code",
   "execution_count": null,
   "metadata": {},
   "outputs": [],
   "source": []
  },
  {
   "cell_type": "code",
   "execution_count": null,
   "metadata": {},
   "outputs": [],
   "source": []
  }
 ],
 "metadata": {
  "kernelspec": {
   "display_name": "Python 3",
   "language": "python",
   "name": "python3"
  },
  "language_info": {
   "codemirror_mode": {
    "name": "ipython",
    "version": 3
   },
   "file_extension": ".py",
   "mimetype": "text/x-python",
   "name": "python",
   "nbconvert_exporter": "python",
   "pygments_lexer": "ipython3",
   "version": "3.6.4"
  }
 },
 "nbformat": 4,
 "nbformat_minor": 2
}
