{
 "cells": [
  {
   "cell_type": "markdown",
   "metadata": {},
   "source": [
    "# RL Algorithms - DUE, ADP and Temporal Difference Learning"
   ]
  },
  {
   "cell_type": "code",
   "execution_count": 171,
   "metadata": {},
   "outputs": [],
   "source": [
    "#Importing Libraries\n",
    "import random\n",
    "import matplotlib.pyplot as plt\n",
    "import time"
   ]
  },
  {
   "cell_type": "markdown",
   "metadata": {},
   "source": [
    "## Defining a custom Grid world"
   ]
  },
  {
   "cell_type": "code",
   "execution_count": 172,
   "metadata": {},
   "outputs": [],
   "source": [
    "'''\n",
    "Grid World\n",
    "\n",
    "Default Grid world - 3x4 Grid world with obstacles, goals and blocked states as below:\n",
    "         _________________\n",
    "        |   |    |    |   |\n",
    "(2,0)   |___|____|____|+1_|\n",
    "         _________________\n",
    "        |   |XXXX|    |   |\n",
    "(1,0)   |___|XXXX|____|-1_|\n",
    "         _________________\n",
    "        |   |    |    |   |\n",
    "(0,0)   |___|____|____|___|\n",
    "\n",
    "        (0,0)          (0,3)\n",
    "        \n",
    "Options -\n",
    "rows -> Number of rows in the grid\n",
    "cols -> Number of columns in the grid\n",
    "goal -> List of tuples containing coordinates of goals\n",
    "blocked -> List of tuples containing coordinates of blocked states\n",
    "Obstacles -> List of tuples containing coordinates of Obstacles i.e prohibited cells\n",
    "randomness -> Probability with which any random action will be selected instead of the original action\n",
    "\n",
    "Possible Actions -\n",
    "0 -> UP\n",
    "1 -> DOWN\n",
    "2 -> LEFT\n",
    "3 -> RIGHT\n",
    "\n",
    "Reward -\n",
    "+1 -> Goal cells\n",
    "-1 -> Blocked cells\n",
    "-0.04 -> For all other cells\n",
    "'''\n",
    "class Grid:\n",
    "    def __init__(self,rows=3,cols=4,goal=[(2,3)],blocked=[(1,3)],obstacles=[(1,1)],randomness=0.2):\n",
    "        self.grid = [[ -0.04 for i in range(cols)] for j in range(rows)]\n",
    "        self.goal=goal\n",
    "        self.blocked=blocked\n",
    "        self.obstacles=obstacles\n",
    "        self.rows = rows\n",
    "        self.cols = cols\n",
    "        if randomness>1:\n",
    "            raise ValueError('Value should be between 0 and 1')\n",
    "        else:\n",
    "            self.randomness = randomness\n",
    "        for g in goal:\n",
    "            self.grid[g[0]][g[1]]=1\n",
    "        for b in blocked:\n",
    "            self.grid[b[0]][b[1]]=-1\n",
    "        for o in obstacles:\n",
    "            self.grid[o[0]][o[1]]=0\n",
    "\n",
    "    def get_rew(self,a,b):        #Given any state returns the reward\n",
    "        \n",
    "        return self.grid[a][b]\n",
    "        \n",
    "    def is_terminal(self,a,b):    #Returns true if a state is a terminal state otherwise false\n",
    "        \n",
    "        if (a,b) in self.goal or (a,b) in self.blocked:\n",
    "            return True\n",
    "        else:\n",
    "            return False\n",
    "        \n",
    "    def get_nextState(self,action,a,b): #Given action and current state returns the next state\n",
    "        \n",
    "        num = random.uniform(0,1)\n",
    "        if num<self.randomness:         #Any random action is selected with a probability equal to randomness\n",
    "            action = random.randint(0,3)\n",
    "        x=a\n",
    "        y=b\n",
    "        if action == 0:\n",
    "            x=a+1\n",
    "            y=b\n",
    "            if (x,y) in self.obstacles:\n",
    "                x=a\n",
    "            if x >= self.rows:\n",
    "                x=a\n",
    "        elif action == 1:\n",
    "            x=a-1\n",
    "            y=b\n",
    "            if (x,y) in self.obstacles:\n",
    "                x=a\n",
    "            if x<0:\n",
    "                x=a\n",
    "        elif action == 2:\n",
    "            x=a\n",
    "            y=b-1\n",
    "            \n",
    "            if (x,y) in self.obstacles:\n",
    "                y=b\n",
    "            if y<0:\n",
    "                y=b\n",
    "        elif action == 3:\n",
    "            x=a\n",
    "            y=b+1\n",
    "            \n",
    "            if (x,y) in self.obstacles:\n",
    "                y=b\n",
    "            if y>=self.cols:\n",
    "                y=b\n",
    "        else:\n",
    "            raise ValueError('Invalid Action, value should be betweem 0 and 3')\n",
    "        \n",
    "        return (x,y)"
   ]
  },
  {
   "cell_type": "markdown",
   "metadata": {},
   "source": [
    "Create an instance of the grid world.\n",
    "\n",
    "Without any options the default 3x4 grid world is created.\n",
    "\n",
    "For a grid world without any obstacles use:\n",
    "grid = Grid(obstacles = [ ])"
   ]
  },
  {
   "cell_type": "code",
   "execution_count": 173,
   "metadata": {},
   "outputs": [],
   "source": [
    "grid = Grid()"
   ]
  },
  {
   "cell_type": "markdown",
   "metadata": {},
   "source": [
    "Define the policy that you want to evaluate.\n",
    "Try different policies."
   ]
  },
  {
   "cell_type": "code",
   "execution_count": 174,
   "metadata": {},
   "outputs": [],
   "source": [
    "policy ={ (0,0):0, (0,1):2, (0,2):2,(0,3):2,\n",
    "         (1,0):0,(1,1):None,(1,2):0,(1,3):None,\n",
    "         (2,0):3,(2,1):3,(2,2):3,(2,3):None}"
   ]
  },
  {
   "cell_type": "markdown",
   "metadata": {},
   "source": [
    "## Direct Utility Estimate"
   ]
  },
  {
   "cell_type": "code",
   "execution_count": 175,
   "metadata": {},
   "outputs": [],
   "source": [
    "sx=0\n",
    "sy=0\n",
    "U=[[0 for i in range(4)] for j in range(3)]\n",
    "freq=[[0 for i in range(4)] for j in range(3)]"
   ]
  },
  {
   "cell_type": "code",
   "execution_count": 176,
   "metadata": {},
   "outputs": [
    {
     "name": "stdout",
     "output_type": "stream",
     "text": [
      "Time taken 0.028000354766845703\n"
     ]
    }
   ],
   "source": [
    "start= time.time()\n",
    "lis1=[]\n",
    "lis2=[]\n",
    "lis3=[]\n",
    "for trials in range(500):\n",
    "    lis1.append(U[1][0])\n",
    "    lis2.append(U[2][0])\n",
    "    lis3.append(U[2][2])\n",
    "    sx=0\n",
    "    sy=0\n",
    "    U_run =[[0 for i in range(4)] for j in range(3)]\n",
    "    freq_run =[[0 for i in range(4)] for j in range(3)]\n",
    "    rew = []\n",
    "    state = []\n",
    "    while True: \n",
    "        rew.append(grid.get_rew(sx,sy))\n",
    "        state.append([sx,sy])\n",
    "        if grid.is_terminal(sx,sy):\n",
    "            break\n",
    "        action = policy[(sx,sy)]\n",
    "        sx,sy = grid.get_nextState(action,sx,sy)\n",
    "    \n",
    "    Sum = 0\n",
    "    for i in range(len(state)-1,0,-1):\n",
    "        Sum += rew[i]\n",
    "        U_run[state[i][0]][state[i][1]]+=Sum\n",
    "        freq_run[state[i][0]][state[i][1]]+=1\n",
    "    for i in range(len(state)-1,0,-1):\n",
    "        U[state[i][0]][state[i][1]] = (U_run[state[i][0]][state[i][1]]+U[state[i][0]][state[i][1]]*freq[state[i][0]][state[i][1]])/(freq[state[i][0]][state[i][1]]+freq_run[state[i][0]][state[i][1]])\n",
    "        freq[state[i][0]][state[i][1]]+=freq_run[state[i][0]][state[i][1]]\n",
    "\n",
    "end = time.time()\n",
    "print('Time taken',end-start)"
   ]
  },
  {
   "cell_type": "markdown",
   "metadata": {},
   "source": [
    "Utility values for all the states"
   ]
  },
  {
   "cell_type": "code",
   "execution_count": 177,
   "metadata": {},
   "outputs": [
    {
     "name": "stdout",
     "output_type": "stream",
     "text": [
      "(0, 0) 0.7266403162055335\n",
      "(0, 1) 0.7128888888888884\n",
      "(0, 2) 0.6719999999999997\n",
      "(0, 3) 0\n",
      "(1, 0) 0.763197093551317\n",
      "(1, 1) 0\n",
      "(1, 2) 0.6669565217391304\n",
      "(1, 3) -1.0\n",
      "(2, 0) 0.8267526881720423\n",
      "(2, 1) 0.8726315789473622\n",
      "(2, 2) 0.9175925925925964\n",
      "(2, 3) 1.0\n"
     ]
    }
   ],
   "source": [
    "\n",
    "for i in range(grid.rows):\n",
    "    for j in range(grid.cols):\n",
    "        print((i,j),U[i][j])\n"
   ]
  },
  {
   "cell_type": "markdown",
   "metadata": {},
   "source": [
    "PLotting Utility values for states (1,0),(2,0) and (2,2)"
   ]
  },
  {
   "cell_type": "code",
   "execution_count": 178,
   "metadata": {},
   "outputs": [
    {
     "data": {
      "image/png": "[encoded data removed]",
      "text/plain": [
       "<Figure size 432x288 with 1 Axes>"
      ]
     },
     "metadata": {
      "needs_background": "light"
     },
     "output_type": "display_data"
    }
   ],
   "source": [
    "plt.plot(lis1)\n",
    "plt.plot(lis2)\n",
    "plt.plot(lis3)\n",
    "plt.ylabel('Utility')\n",
    "plt.xlabel('Number of trials')\n",
    "axes = plt.gca()\n",
    "axes.set_ylim([-1,1])\n",
    "plt.show()"
   ]
  },
  {
   "cell_type": "markdown",
   "metadata": {},
   "source": [
    "## Adaptive Dynamic Programming"
   ]
  },
  {
   "cell_type": "code",
   "execution_count": 179,
   "metadata": {},
   "outputs": [],
   "source": [
    "#Initializing table of utilities and frequency\n",
    "U=[[0 for i in range(4)] for j in range(3)]\n",
    "freq=[[0 for i in range(4)] for j in range(3)]\n",
    "\n",
    "#Gamma value set to 1\n",
    "gamma = 1\n",
    "visited=[]\n",
    "\n",
    "def alpha(n):\n",
    "    return 60/(59+n)\n"
   ]
  },
  {
   "cell_type": "code",
   "execution_count": 180,
   "metadata": {},
   "outputs": [
    {
     "name": "stdout",
     "output_type": "stream",
     "text": [
      "Time taken 0.021261930465698242\n"
     ]
    }
   ],
   "source": [
    "start = time.time()\n",
    "lis1=[]\n",
    "lis2=[]\n",
    "lis3=[]\n",
    "for trials in range(500):\n",
    "    lis1.append(U[1][0])\n",
    "    lis2.append(U[2][0])\n",
    "    lis3.append(U[2][2])\n",
    "    r=-0.04\n",
    "    prev_sx = None\n",
    "    prev_sy = None\n",
    "    prev_a = None\n",
    "    prev_r = None\n",
    "    sx=0\n",
    "    sy=0\n",
    "\n",
    "    while True:\n",
    "        r = grid.get_rew(sx,sy)\n",
    "        if (sx,sy) not in visited:\n",
    "            U[sx][sy] = r\n",
    "            visited.append((sx,sy))\n",
    "        if prev_sx != None and prev_sy != None:\n",
    "            freq[prev_sx][prev_sy]+=1\n",
    "            U[prev_sx][prev_sy] = U[prev_sx][prev_sy] + alpha(freq[prev_sx][prev_sy] )*(grid.get_rew(prev_sx,prev_sy) + gamma*U[sx][sy] - U[prev_sx][prev_sy])\n",
    "        if grid.is_terminal(sx,sy):\n",
    "            prev_sx = None\n",
    "            prev_sy = None\n",
    "            prev_a = None\n",
    "            prev_r = None\n",
    "            break\n",
    "        else:\n",
    "            prev_sx = sx\n",
    "            prev_sy = sy\n",
    "            prev_a = policy[(sx,sy)]\n",
    "            prev_r = r\n",
    "        sx,sy=grid.get_nextState(prev_a,sx,sy)\n",
    "end = time.time()\n",
    "print('Time taken', end-start)"
   ]
  },
  {
   "cell_type": "markdown",
   "metadata": {},
   "source": [
    "Utility values for all the states"
   ]
  },
  {
   "cell_type": "code",
   "execution_count": 181,
   "metadata": {},
   "outputs": [
    {
     "name": "stdout",
     "output_type": "stream",
     "text": [
      "(0, 0) 0.7534008497815629\n",
      "(0, 1) 0.6825110874749132\n",
      "(0, 2) 0.5809024033430614\n",
      "(0, 3) 0\n",
      "(1, 0) 0.793689966904409\n",
      "(1, 1) 0\n",
      "(1, 2) 0.8934101204687205\n",
      "(1, 3) -1\n",
      "(2, 0) 0.8439077244906965\n",
      "(2, 1) 0.8931169260223154\n",
      "(2, 2) 0.9564572541235846\n",
      "(2, 3) 1\n"
     ]
    }
   ],
   "source": [
    "for i in range(grid.rows):\n",
    "    for j in range(grid.cols):\n",
    "        print((i,j),U[i][j])\n"
   ]
  },
  {
   "cell_type": "markdown",
   "metadata": {},
   "source": [
    "PLotting utilities for states (1,0) , (2,0) and (2,2)"
   ]
  },
  {
   "cell_type": "code",
   "execution_count": 182,
   "metadata": {},
   "outputs": [
    {
     "data": {
      "image/png": "[encoded data removed]",
      "text/plain": [
       "<Figure size 432x288 with 1 Axes>"
      ]
     },
     "metadata": {
      "needs_background": "light"
     },
     "output_type": "display_data"
    }
   ],
   "source": [
    "plt.plot(lis1)\n",
    "plt.plot(lis2)\n",
    "plt.plot(lis3)\n",
    "plt.ylabel('Utility')\n",
    "plt.xlabel('Number of trials')\n",
    "axes = plt.gca()\n",
    "axes.set_ylim([-1,1])\n",
    "plt.show()"
   ]
  },
  {
   "cell_type": "markdown",
   "metadata": {},
   "source": [
    "## Temporal-difference learning"
   ]
  },
  {
   "cell_type": "code",
   "execution_count": 183,
   "metadata": {},
   "outputs": [],
   "source": [
    "#Initializing table of utilities and rewards\n",
    "U=[[0 for i in range(4)] for j in range(3)]\n",
    "R=[[0 for i in range(4)] for j in range(3)]\n",
    "Nsa ={}\n",
    "Ns_sa = {}\n",
    "P = {}"
   ]
  },
  {
   "cell_type": "code",
   "execution_count": 184,
   "metadata": {},
   "outputs": [
    {
     "name": "stdout",
     "output_type": "stream",
     "text": [
      "Time taken 0.1111912727355957\n"
     ]
    }
   ],
   "source": [
    "start = time.time()\n",
    "lis1=[]\n",
    "lis2=[]\n",
    "lis3=[]\n",
    "for trains in range(500):\n",
    "    lis1.append(U[1][0])\n",
    "    lis2.append(U[2][0])\n",
    "    lis3.append(U[2][2])\n",
    "    sx=0\n",
    "    sy=0\n",
    "    prev_sx=None\n",
    "    prev_sy=None\n",
    "    prev_a=None\n",
    "    visited=[]\n",
    "    while True:\n",
    "        r = grid.get_rew(sx,sy)\n",
    "        if (sx,sy) not in visited:\n",
    "            U[sx][sy] = r\n",
    "            R[sx][sy] = r\n",
    "        \n",
    "        if prev_sx != None and prev_sy != None:\n",
    "            if ((prev_sx,prev_sy),prev_a) not in Nsa:\n",
    "                Nsa[((prev_sx,prev_sy),prev_a)]=1\n",
    "            else:\n",
    "                Nsa[((prev_sx,prev_sy),prev_a)]+=1\n",
    "                \n",
    "            if ((sx,sy),(prev_sx,prev_sy),prev_a) not in Ns_sa:\n",
    "                Ns_sa[((sx,sy),(prev_sx,prev_sy),prev_a)]=1\n",
    "            else:\n",
    "                Ns_sa[((sx,sy),(prev_sx,prev_sy),prev_a)]+=1\n",
    "            \n",
    "        for key in Ns_sa:  \n",
    "            P[key] = Ns_sa[key]/Nsa[(key[1],key[2])]\n",
    "        \n",
    "        sum_s={}\n",
    "        for key in Ns_sa:\n",
    "            if key[1] not in sum_s:\n",
    "                sum_s[key[1]]=P[key]*U[key[0][0]][key[0][1]]\n",
    "            else:\n",
    "                sum_s[key[1]]+=P[key]*U[key[0][0]][key[0][1]]\n",
    "                \n",
    "        for s in Nsa:\n",
    "            U[s[0][0]][s[0][1]] =R[s[0][0]][s[0][1]] + gamma*sum_s[s[0]]\n",
    "        \n",
    "        \n",
    "        if grid.is_terminal(sx,sy):\n",
    "            prev_sx=None\n",
    "            prev_sy=None\n",
    "            prev_a = None\n",
    "            break\n",
    "        else:\n",
    "            prev_sx=sx\n",
    "            prev_sy=sy\n",
    "            prev_a = policy[(sx,sy)]\n",
    "        \n",
    "        sx,sy = grid.get_nextState(prev_a,sx,sy)\n",
    "\n",
    "end = time.time()\n",
    "print('Time taken', end - start)"
   ]
  },
  {
   "cell_type": "code",
   "execution_count": 185,
   "metadata": {},
   "outputs": [
    {
     "name": "stdout",
     "output_type": "stream",
     "text": [
      "(0, 0) 0.00899295294844614\n",
      "(0, 1) 0.3147565238648936\n",
      "(0, 2) -0.13866843305764456\n",
      "(0, 3) 0.009405390799913302\n",
      "(1, 0) 0.5316571108300682\n",
      "(1, 1) 0\n",
      "(1, 2) 0.6688976346672012\n",
      "(1, 3) -1\n",
      "(2, 0) 0.02622915165576773\n",
      "(2, 1) 0.7395958919264567\n",
      "(2, 2) 0.866899994199754\n",
      "(2, 3) 1\n"
     ]
    }
   ],
   "source": [
    "for i in range(grid.rows):\n",
    "    for j in range(grid.cols):\n",
    "        print((i,j),U[i][j])\n"
   ]
  },
  {
   "cell_type": "code",
   "execution_count": 186,
   "metadata": {},
   "outputs": [
    {
     "data": {
      "image/png": "[encoded data removed]",
      "text/plain": [
       "<Figure size 432x288 with 1 Axes>"
      ]
     },
     "metadata": {
      "needs_background": "light"
     },
     "output_type": "display_data"
    }
   ],
   "source": [
    "plt.plot(lis1)\n",
    "plt.plot(lis2)\n",
    "plt.plot(lis3)\n",
    "plt.ylabel('Utility')\n",
    "plt.xlabel('Number of trials')\n",
    "axes = plt.gca()\n",
    "axes.set_ylim([-1,1])\n",
    "plt.show()"
   ]
  },
  {
   "cell_type": "markdown",
   "metadata": {},
   "source": [
    "1. We observe that Adaptive Dynamic Programming method converges the fastest though it takes the longest computation time for 500 trials compared to other two methods. \n",
    "\n",
    "2. The Direct Utility estimate method converges slowly.\n",
    "\n",
    "3. The Temporal-Difference method takes much less time compared to ADP method per observation.\n",
    "\n",
    "4. ADP method becomes intractable as size of the environment increases as we need to keep a track of all possible transitions.\n"
   ]
  },
  {
   "cell_type": "code",
   "execution_count": null,
   "metadata": {},
   "outputs": [],
   "source": []
  }
 ],
 "metadata": {
  "kernelspec": {
   "display_name": "Python 3",
   "language": "python",
   "name": "python3"
  },
  "language_info": {
   "codemirror_mode": {
    "name": "ipython",
    "version": 3
   },
   "file_extension": ".py",
   "mimetype": "text/x-python",
   "name": "python",
   "nbconvert_exporter": "python",
   "pygments_lexer": "ipython3",
   "version": "3.6.7"
  }
 },
 "nbformat": 4,
 "nbformat_minor": 2
}
