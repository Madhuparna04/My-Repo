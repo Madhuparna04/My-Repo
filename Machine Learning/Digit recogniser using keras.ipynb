{
 "cells": [
  {
   "cell_type": "code",
   "execution_count": 0,
   "metadata": {
    "colab": {
     "autoexec": {
      "startup": false,
      "wait_interval": 0
     },
     "base_uri": "https://localhost:8080/",
     "height": 72
    },
    "colab_type": "code",
    "executionInfo": {
     "elapsed": 1000322,
     "status": "ok",
     "timestamp": 1532494291449,
     "user": {
      "displayName": "",
      "photoUrl": "",
      "userId": ""
     },
     "user_tz": -330
    },
    "id": "t9ALbbpmY9rm",
    "outputId": "b05cb5a5-3c28-471d-d988-c2af2ba65b65"
   },
   "outputs": [
    {
     "data": {
      "text/html": [
       "\n",
       "     <input type=\"file\" id=\"files-9aca66e3-e195-4002-b8e2-113025099553\" name=\"files[]\" multiple disabled />\n",
       "     <output id=\"result-9aca66e3-e195-4002-b8e2-113025099553\">\n",
       "      Upload widget is only available when the cell has been executed in the\n",
       "      current browser session. Please rerun this cell to enable.\n",
       "      </output>\n",
       "      <script src=\"/nbextensions/google.colab/files.js\"></script> "
      ],
      "text/plain": [
       "<IPython.core.display.HTML object>"
      ]
     },
     "metadata": {
      "tags": []
     },
     "output_type": "display_data"
    },
    {
     "name": "stdout",
     "output_type": "stream",
     "text": [
      "Saving train.csv to train (1).csv\n"
     ]
    }
   ],
   "source": [
    "from google.colab import files\n",
    "data=files.upload()"
   ]
  },
  {
   "cell_type": "code",
   "execution_count": 0,
   "metadata": {
    "colab": {
     "autoexec": {
      "startup": false,
      "wait_interval": 0
     }
    },
    "colab_type": "code",
    "id": "vuBPrusI0-dP"
   },
   "outputs": [],
   "source": [
    "#Importing libraries\n",
    "import numpy as np\n",
    "import tensorflow as tf\n",
    "import pandas as pd\n",
    "from keras import layers\n",
    "from keras.layers import Input, Dense, Activation, ZeroPadding2D, BatchNormalization, Flatten, Conv2D\n",
    "from keras.layers import AveragePooling2D, MaxPooling2D, Dropout, GlobalMaxPooling2D, GlobalAveragePooling2D\n",
    "from keras.models import Model\n",
    "from keras.preprocessing import image\n",
    "from keras.utils import layer_utils\n",
    "from keras.utils.data_utils import get_file\n",
    "from keras.applications.imagenet_utils import preprocess_input\n",
    "from IPython.display import SVG\n",
    "from keras.utils.vis_utils import model_to_dot\n",
    "from keras.utils import plot_model\n",
    "import keras.backend as K\n",
    "K.set_image_data_format('channels_last')\n",
    "import matplotlib.pyplot as plt\n",
    "from matplotlib.pyplot import imshow\n",
    "import sklearn\n",
    "from sklearn import model_selection"
   ]
  },
  {
   "cell_type": "code",
   "execution_count": 74,
   "metadata": {
    "colab": {
     "autoexec": {
      "startup": false,
      "wait_interval": 0
     },
     "base_uri": "https://localhost:8080/",
     "height": 136
    },
    "colab_type": "code",
    "executionInfo": {
     "elapsed": 5078,
     "status": "ok",
     "timestamp": 1532511629524,
     "user": {
      "displayName": "Madhuparna Bhowmik",
      "photoUrl": "//lh4.googleusercontent.com/--4mxPm3oCYs/AAAAAAAAAAI/AAAAAAAACUw/FUBqyB5LNHc/s50-c-k-no/photo.jpg",
      "userId": "100144031871580734064"
     },
     "user_tz": -330
    },
    "id": "BaL6T70ImBwh",
    "outputId": "d1b9c045-826b-4523-d9df-44d5d3c76fa1"
   },
   "outputs": [
    {
     "name": "stdout",
     "output_type": "stream",
     "text": [
      "[[1 0 0 ... 0 0 0]\n",
      " [0 0 0 ... 0 0 0]\n",
      " [1 0 0 ... 0 0 0]\n",
      " ...\n",
      " [7 0 0 ... 0 0 0]\n",
      " [6 0 0 ... 0 0 0]\n",
      " [9 0 0 ... 0 0 0]]\n"
     ]
    }
   ],
   "source": [
    "#Loading dataset\n",
    "df=pd.read_csv('train.csv').values\n",
    "print(df)"
   ]
  },
  {
   "cell_type": "code",
   "execution_count": 0,
   "metadata": {
    "colab": {
     "autoexec": {
      "startup": false,
      "wait_interval": 0
     }
    },
    "colab_type": "code",
    "id": "gebnNDkbzeTA"
   },
   "outputs": [],
   "source": [
    "#Splitting datset into train and cross validation set\n",
    "X_train = df[:35000, 1:].reshape(35000,28, 28,1).astype( 'float32' )\n",
    "X_test=df[35001:,1:].reshape(df.shape[0]-35000-1,28, 28,1).astype( 'float32' )\n",
    "X_train = X_train/ 255.0\n",
    "X_test=X_test/255.0\n",
    "Y_train = df[:35000,0]\n",
    "Y_test=df[35001:,0]"
   ]
  },
  {
   "cell_type": "code",
   "execution_count": 0,
   "metadata": {
    "colab": {
     "autoexec": {
      "startup": false,
      "wait_interval": 0
     }
    },
    "colab_type": "code",
    "id": "gm7O43kc2_eV"
   },
   "outputs": [],
   "source": [
    "\n",
    "from sklearn import preprocessing\n",
    "lb = preprocessing.LabelBinarizer()\n",
    "\n",
    "Y_train = lb.fit_transform(Y_train)\n",
    "Y_test = lb.fit_transform(Y_test)"
   ]
  },
  {
   "cell_type": "code",
   "execution_count": 77,
   "metadata": {
    "colab": {
     "autoexec": {
      "startup": false,
      "wait_interval": 0
     },
     "base_uri": "https://localhost:8080/",
     "height": 85
    },
    "colab_type": "code",
    "executionInfo": {
     "elapsed": 945,
     "status": "ok",
     "timestamp": 1532511636256,
     "user": {
      "displayName": "Madhuparna Bhowmik",
      "photoUrl": "//lh4.googleusercontent.com/--4mxPm3oCYs/AAAAAAAAAAI/AAAAAAAACUw/FUBqyB5LNHc/s50-c-k-no/photo.jpg",
      "userId": "100144031871580734064"
     },
     "user_tz": -330
    },
    "id": "X0qXR39Z5S4W",
    "outputId": "84370961-d99e-488d-9fd1-4b6ff0ff0631"
   },
   "outputs": [
    {
     "name": "stdout",
     "output_type": "stream",
     "text": [
      "(35000, 28, 28, 1)\n",
      "(35000, 10)\n",
      "(6999, 28, 28, 1)\n",
      "(6999, 10)\n"
     ]
    }
   ],
   "source": [
    "#Printing shapes \n",
    "print(X_train.shape)\n",
    "print(Y_train.shape)\n",
    "print(X_test.shape)\n",
    "print(Y_test.shape)"
   ]
  },
  {
   "cell_type": "code",
   "execution_count": 0,
   "metadata": {
    "colab": {
     "autoexec": {
      "startup": false,
      "wait_interval": 0
     }
    },
    "colab_type": "code",
    "id": "GYvVxaQR6Dcz"
   },
   "outputs": [],
   "source": [
    "#Model\n",
    "def cnn(input_shape):\n",
    "\n",
    "    \n",
    "    X_input = Input(input_shape)\n",
    "    X = ZeroPadding2D((3, 3))(X_input)\n",
    "    X = Conv2D(32, (3, 3), strides = (1, 1), name = 'conv0')(X)\n",
    "    \n",
    "    X = Activation('relu')(X)\n",
    "    X = MaxPooling2D((2, 2), name='max_pool1')(X)\n",
    "    \n",
    "    X = Conv2D(64, (5, 5), padding='valid',strides = (1, 1), name = 'conv1')(X)\n",
    "    X = Activation('relu')(X)\n",
    "    \n",
    "    X = Conv2D(128, (3, 3), strides = (1, 1), name = 'conv2')(X)\n",
    "    X = Activation('relu')(X)\n",
    "    X=MaxPooling2D((5, 5), name='max_pool2')(X)\n",
    "    X = Flatten()(X)\n",
    "    #Three fully connected layers\n",
    "    X=Dense(10000, activation='relu', name='fc1',kernel_regularizer=regularizers.l2(0.01))(X)\n",
    "    X = Dense(100, activation='relu', name='fc2',kernel_regularizer=regularizers.l2(0.01))(X)\n",
    "    X = Dense(10, activation='relu', name='fc3')(X)\n",
    "    \n",
    "    model = Model(inputs = X_input, outputs = X, name='HappyModel')\n",
    "\n",
    "    \n",
    "    return model"
   ]
  },
  {
   "cell_type": "code",
   "execution_count": 0,
   "metadata": {
    "colab": {
     "autoexec": {
      "startup": false,
      "wait_interval": 0
     }
    },
    "colab_type": "code",
    "id": "wOI3WNfJ6f24"
   },
   "outputs": [],
   "source": [
    "from keras import regularizers\n",
    "model = cnn(X_train[1].shape)"
   ]
  },
  {
   "cell_type": "code",
   "execution_count": 0,
   "metadata": {
    "colab": {
     "autoexec": {
      "startup": false,
      "wait_interval": 0
     }
    },
    "colab_type": "code",
    "id": "zGTZ1fyP6pcQ"
   },
   "outputs": [],
   "source": [
    "model.compile(optimizer = 'Adam', loss =\"mean_squared_error\", metrics = [\"accuracy\"])"
   ]
  },
  {
   "cell_type": "code",
   "execution_count": 108,
   "metadata": {
    "colab": {
     "autoexec": {
      "startup": false,
      "wait_interval": 0
     },
     "base_uri": "https://localhost:8080/",
     "height": 410
    },
    "colab_type": "code",
    "executionInfo": {
     "elapsed": 2626,
     "status": "ok",
     "timestamp": 1532524268163,
     "user": {
      "displayName": "Madhuparna Bhowmik",
      "photoUrl": "//lh4.googleusercontent.com/--4mxPm3oCYs/AAAAAAAAAAI/AAAAAAAACUw/FUBqyB5LNHc/s50-c-k-no/photo.jpg",
      "userId": "100144031871580734064"
     },
     "user_tz": -330
    },
    "id": "RSFu-I4P6tYF",
    "outputId": "763a491c-bd1c-4718-c75f-b9705e1a53d2"
   },
   "outputs": [
    {
     "name": "stdout",
     "output_type": "stream",
     "text": [
      "Epoch 1/10\n",
      "16176/35000 [============>.................] - ETA: 4:02 - loss: 0.0067 - acc: 0.980034304/35000 [============================>.] - ETA: 8s - loss: 0.0064 - acc: 0.981335000/35000 [==============================] - 451s 13ms/step - loss: 0.0064 - acc: 0.9812\n",
      "Epoch 2/10\n",
      " 7760/35000 [=====>........................] - ETA: 5:49 - loss: 0.0067 - acc: 0.98025776/35000 [=====================>........] - ETA: 1:58 - loss: 0.0065 - acc: 0.981635000/35000 [==============================] - 450s 13ms/step - loss: 0.0063 - acc: 0.9821\n",
      "Epoch 3/10\n",
      " 3888/35000 [==>...........................] - ETA: 6:39 - loss: 0.0051 - acc: 0.987722224/35000 [==================>...........] - ETA: 2:45 - loss: 0.0065 - acc: 0.982735000/35000 [==============================] - 452s 13ms/step - loss: 0.0063 - acc: 0.9831\n",
      "Epoch 4/10\n",
      " 2416/35000 [=>............................] - ETA: 6:59 - loss: 0.0062 - acc: 0.983020560/35000 [================>.............] - ETA: 3:07 - loss: 0.0057 - acc: 0.984335000/35000 [==============================] - 453s 13ms/step - loss: 0.0057 - acc: 0.9841\n",
      "Epoch 5/10\n",
      " 1600/35000 [>.............................] - ETA: 7:11 - loss: 0.0049 - acc: 0.985019792/35000 [===============>..............] - ETA: 3:15 - loss: 0.0055 - acc: 0.984135000/35000 [==============================] - 450s 13ms/step - loss: 0.0056 - acc: 0.9839\n",
      "Epoch 6/10\n",
      " 1264/35000 [>.............................] - ETA: 7:12 - loss: 0.0050 - acc: 0.988119328/35000 [===============>..............] - ETA: 3:20 - loss: 0.0057 - acc: 0.984835000/35000 [==============================] - 449s 13ms/step - loss: 0.0057 - acc: 0.9848\n",
      "Epoch 7/10\n",
      " 1024/35000 [..............................] - ETA: 7:19 - loss: 0.0051 - acc: 0.988319776/35000 [===============>..............] - ETA: 3:14 - loss: 0.0053 - acc: 0.986135000/35000 [==============================] - 449s 13ms/step - loss: 0.0054 - acc: 0.9862\n",
      "Epoch 8/10\n",
      " 1072/35000 [..............................] - ETA: 7:17 - loss: 0.0057 - acc: 0.982319200/35000 [===============>..............] - ETA: 3:23 - loss: 0.0054 - acc: 0.985635000/35000 [==============================] - 451s 13ms/step - loss: 0.0054 - acc: 0.9859\n",
      "Epoch 9/10\n",
      " 1072/35000 [..............................] - ETA: 7:19 - loss: 0.0056 - acc: 0.985119648/35000 [===============>..............] - ETA: 3:18 - loss: 0.0053 - acc: 0.985935000/35000 [==============================] - 452s 13ms/step - loss: 0.0054 - acc: 0.9855\n",
      "Epoch 10/10\n",
      " 1200/35000 [>.............................] - ETA: 7:18 - loss: 0.0053 - acc: 0.985019168/35000 [===============>..............] - ETA: 3:24 - loss: 0.0052 - acc: 0.987435000/35000 [==============================] - 451s 13ms/step - loss: 0.0052 - acc: 0.9868\n"
     ]
    },
    {
     "data": {
      "text/plain": [
       "<keras.callbacks.History at 0x7f58ec041e10>"
      ]
     },
     "execution_count": 108,
     "metadata": {
      "tags": []
     },
     "output_type": "execute_result"
    }
   ],
   "source": [
    "model.fit(x =X_train, y =Y_train, epochs = 10, batch_size = 16)"
   ]
  },
  {
   "cell_type": "code",
   "execution_count": 109,
   "metadata": {
    "colab": {
     "autoexec": {
      "startup": false,
      "wait_interval": 0
     },
     "base_uri": "https://localhost:8080/",
     "height": 87
    },
    "colab_type": "code",
    "executionInfo": {
     "elapsed": 14093,
     "status": "ok",
     "timestamp": 1532524304953,
     "user": {
      "displayName": "Madhuparna Bhowmik",
      "photoUrl": "//lh4.googleusercontent.com/--4mxPm3oCYs/AAAAAAAAAAI/AAAAAAAACUw/FUBqyB5LNHc/s50-c-k-no/photo.jpg",
      "userId": "100144031871580734064"
     },
     "user_tz": -330
    },
    "id": "EjlvjP4X64TC",
    "outputId": "92e7af4c-2330-44e4-8ec9-89bd72347804"
   },
   "outputs": [
    {
     "name": "stdout",
     "output_type": "stream",
     "text": [
      "6999/6999 [==============================] - 13s 2ms/step\n",
      "[0.005432287841723389, 0.9821403057579654]\n",
      "Loss = 0.005432287841723389\n",
      "Test Accuracy = 0.9821403057579654\n"
     ]
    }
   ],
   "source": [
    "#Testing the model on cross validation set\n",
    "preds =model.evaluate(x = X_test, y = Y_test)\n",
    "print(preds)\n",
    "print (\"Loss = \" + str(preds[0]))\n",
    "print (\"Test Accuracy = \" + str(preds[1]))"
   ]
  },
  {
   "cell_type": "code",
   "execution_count": 0,
   "metadata": {
    "colab": {
     "autoexec": {
      "startup": false,
      "wait_interval": 0
     }
    },
    "colab_type": "code",
    "id": "-fTKzQnT8P9P"
   },
   "outputs": [],
   "source": []
  },
  {
   "cell_type": "code",
   "execution_count": 0,
   "metadata": {
    "colab": {
     "autoexec": {
      "startup": false,
      "wait_interval": 0
     }
    },
    "colab_type": "code",
    "id": "e2L-G5D1mFSa"
   },
   "outputs": [],
   "source": []
  }
 ],
 "metadata": {
  "colab": {
   "collapsed_sections": [],
   "default_view": {},
   "name": "Copy of TensorFlow with GPU",
   "provenance": [
    {
     "file_id": "/v2/external/notebooks/gpu.ipynb",
     "timestamp": 1532494583198
    }
   ],
   "toc_visible": true,
   "version": "0.3.2",
   "views": {}
  },
  "kernelspec": {
   "display_name": "Python 3",
   "language": "python",
   "name": "python3"
  },
  "language_info": {
   "codemirror_mode": {
    "name": "ipython",
    "version": 3
   },
   "file_extension": ".py",
   "mimetype": "text/x-python",
   "name": "python",
   "nbconvert_exporter": "python",
   "pygments_lexer": "ipython3",
   "version": "3.6.4"
  }
 },
 "nbformat": 4,
 "nbformat_minor": 1
}
