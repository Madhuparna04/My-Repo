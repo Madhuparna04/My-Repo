{
 "cells": [
  {
   "cell_type": "code",
   "execution_count": 35,
   "metadata": {},
   "outputs": [],
   "source": [
    "import numpy as np"
   ]
  },
  {
   "cell_type": "code",
   "execution_count": 36,
   "metadata": {},
   "outputs": [],
   "source": [
    "d1 = [\"this\", \"is\", \"sample\", \"text\"]\n",
    "d2 = [\"this\", \"is\", \"new\", \"text\"]\n",
    "d3 = [\"this\", \"has\",\"new\", \"content\"]\n",
    "documents = [d1, d2, d3]"
   ]
  },
  {
   "cell_type": "code",
   "execution_count": 76,
   "metadata": {},
   "outputs": [
    {
     "name": "stdout",
     "output_type": "stream",
     "text": [
      "Attribute     ID\n",
      "\n",
      "this  ->  1\n",
      "is  ->  2\n",
      "sample  ->  3\n",
      "text  ->  4\n",
      "new  ->  5\n",
      "has  ->  6\n",
      "content  ->  7\n"
     ]
    }
   ],
   "source": [
    "attributes = dict()\n",
    "index = 1;\n",
    "for docs in documents:\n",
    "    for section in docs:\n",
    "        if section not in attributes.keys():\n",
    "            attributes[section] = index;\n",
    "            index+=1\n",
    "\n",
    "print(\"Attribute     ID\")\n",
    "print()\n",
    "for key in attributes.keys():\n",
    "    print(key, end = \"  ->  \")\n",
    "    print(attributes[key])\n",
    "    "
   ]
  },
  {
   "cell_type": "code",
   "execution_count": 96,
   "metadata": {},
   "outputs": [
    {
     "name": "stdout",
     "output_type": "stream",
     "text": [
      "Enhanced Matrix\n",
      "d1 d2 d3\n",
      "1  1  1  \n",
      "2  2  0  \n",
      "3  0  0  \n",
      "4  4  0  \n",
      "0  3  3  \n",
      "0  0  2  \n"
     ]
    }
   ],
   "source": [
    "enhanced_matrix = []\n",
    "for doc in documents:\n",
    "    lis = [0]*(len(attributes)+1)\n",
    "    for i in range(len(doc)):\n",
    "        section = doc[i]\n",
    "        attr_id = attributes[section] \n",
    "        lis[attr_id] = i + 1\n",
    "    enhanced_matrix.append(lis)\n",
    "\n",
    "print(\"Enhanced Matrix\")\n",
    "print(\"d1 d2 d3\")\n",
    "for i in range(len(attributes)-1):\n",
    "    for j in range(len(documents)):\n",
    "        print(enhanced_matrix[j][i+1], end = \"  \")\n",
    "    print()"
   ]
  },
  {
   "cell_type": "code",
   "execution_count": 101,
   "metadata": {},
   "outputs": [
    {
     "name": "stdout",
     "output_type": "stream",
     "text": [
      "Permutation of indices\n",
      "P1 : [5 2 1 7 3 6 4]\n",
      "P2 : [2 1 3 4 7 6 5]\n",
      "P3 : [1 6 3 7 2 5 4]\n"
     ]
    }
   ],
   "source": [
    "orig_id = [i+1 for i in range(len(attributes))]\n",
    "perm_1 = np.random.permutation(orig_id)\n",
    "perm_2 = np.random.permutation(orig_id)\n",
    "perm_3 = np.random.permutation(orig_id)\n",
    "\n",
    "print(\"Permutation of indices\")\n",
    "print(\"P1 :\", perm_1)\n",
    "print(\"P2 :\", perm_2)\n",
    "print(\"P3 :\", perm_3)\n",
    "perms = [perm_1, perm_2, perm_3]\n"
   ]
  },
  {
   "cell_type": "code",
   "execution_count": 105,
   "metadata": {},
   "outputs": [
    {
     "name": "stdout",
     "output_type": "stream",
     "text": [
      "Rearranged Matrix\n",
      "Permutation 1\n",
      "[0, 2, 1, 0, 3, 0, 4]\n",
      "[3, 2, 1, 0, 0, 0, 4]\n",
      "[3, 0, 1, 4, 0, 2, 0]\n",
      "Permutation 2\n",
      "[2, 1, 3, 4, 0, 0, 0]\n",
      "[2, 1, 0, 4, 0, 0, 3]\n",
      "[0, 1, 0, 0, 4, 2, 3]\n",
      "Permutation 3\n",
      "[1, 0, 3, 0, 2, 0, 4]\n",
      "[1, 0, 0, 0, 2, 3, 4]\n",
      "[1, 2, 0, 4, 0, 3, 0]\n"
     ]
    }
   ],
   "source": [
    "rearranged_matrix = []\n",
    "print(\"Rearranged Matrix\")\n",
    "for i in range(len(perms)):\n",
    "    new_matrix = []\n",
    "    print(\"Permutation \"+str(i+1))\n",
    "    for j in range(len(enhanced_matrix)):\n",
    "        lis = []\n",
    "        for k in range(len(perms[i])):\n",
    "            lis.append(enhanced_matrix[j][perms[i][k]])\n",
    "        print(lis)\n",
    "        new_matrix.append(lis)\n",
    "\n",
    "    rearranged_matrix.append(new_matrix)\n",
    "    "
   ]
  },
  {
   "cell_type": "code",
   "execution_count": 106,
   "metadata": {},
   "outputs": [
    {
     "name": "stdout",
     "output_type": "stream",
     "text": [
      "P1 [(2, 2), (1, 3), (1, 3)]\n",
      "P2 [(1, 2), (1, 2), (2, 1)]\n",
      "P3 [(1, 1), (1, 1), (1, 1)]\n"
     ]
    }
   ],
   "source": [
    "signatures = []\n",
    "\n",
    "for i in range(len(rearranged_matrix)):\n",
    "    signature = []\n",
    "    for j in range(len(rearranged_matrix[i])):\n",
    "        non_zero = 0\n",
    "        for k in range(len(rearranged_matrix[i][j])):\n",
    "            if(rearranged_matrix[i][j][k] != 0):\n",
    "                non_zero = rearranged_matrix[i][j][k]\n",
    "                signature.append((k+1,non_zero))\n",
    "                break\n",
    "    print(\"P\"+str(i+1),signature)\n",
    "    signatures.append(signature)\n"
   ]
  },
  {
   "cell_type": "code",
   "execution_count": 109,
   "metadata": {},
   "outputs": [
    {
     "name": "stdout",
     "output_type": "stream",
     "text": [
      "     d1     d2     d3\n",
      "d1   1.00   0.67   0.33   \n",
      "d2   0.67   1.00   0.67   \n",
      "d3   0.33   0.67   1.00   \n"
     ]
    }
   ],
   "source": [
    "print(\"     d1     d2     d3\")\n",
    "for i in range(len(documents)):\n",
    "    print(\"d\"+str(i+1),end=\"   \")\n",
    "    for j in range(len(documents)):\n",
    "        same = 0\n",
    "        for k in range(len(signatures)):\n",
    "            if(signatures[k][i] == signatures[k][j]):\n",
    "                same+=1\n",
    "        \n",
    "        print(\"{:.2f}\".format(same/3), end = \"   \")\n",
    "    print()"
   ]
  },
  {
   "cell_type": "code",
   "execution_count": null,
   "metadata": {},
   "outputs": [],
   "source": []
  }
 ],
 "metadata": {
  "kernelspec": {
   "display_name": "Python 3",
   "language": "python",
   "name": "python3"
  },
  "language_info": {
   "codemirror_mode": {
    "name": "ipython",
    "version": 3
   },
   "file_extension": ".py",
   "mimetype": "text/x-python",
   "name": "python",
   "nbconvert_exporter": "python",
   "pygments_lexer": "ipython3",
   "version": "3.6.9"
  }
 },
 "nbformat": 4,
 "nbformat_minor": 2
}
